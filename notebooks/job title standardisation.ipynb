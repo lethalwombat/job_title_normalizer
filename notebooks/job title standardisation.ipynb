{
 "cells": [
  {
   "cell_type": "markdown",
   "id": "43759dd5",
   "metadata": {},
   "source": [
    "Import libraries"
   ]
  },
  {
   "cell_type": "code",
   "execution_count": 1,
   "id": "b153cec5",
   "metadata": {},
   "outputs": [],
   "source": [
    "import pandas as pd"
   ]
  },
  {
   "cell_type": "markdown",
   "id": "8c039515",
   "metadata": {},
   "source": [
    "Import data"
   ]
  },
  {
   "cell_type": "code",
   "execution_count": 2,
   "id": "0fa1b51f",
   "metadata": {},
   "outputs": [],
   "source": [
    "# job titles from rocket\n",
    "df_test_data = (\n",
    "    pd.read_csv('job_titles_rocket.gz', delimiter='\\t', encoding = \"ISO-8859-1\", names=['job_title_raw', 'n'])\n",
    "#     pd.read_csv('job_titles_rocket.gz', delimiter='\\t', names=['job_title', 'n'])    \n",
    "    .dropna()\n",
    "    .reset_index(drop=True)\n",
    ")\n",
    "\n",
    "# transform the data\n",
    "df_test_data = (\n",
    "    df_test_data\n",
    "    .assign(\n",
    "        job_title_raw=df_test_data['job_title_raw'].str.lower().str.strip()\n",
    "    )\n",
    ")\n",
    "\n",
    "# import assigned roles from thesaurus\n",
    "df_assigned_roles = (\n",
    "    pd.read_csv('job_title_dictionary.txt', delimiter='\\t')\n",
    "    .query('FindPhraseStatus == \"assignedrole\"')\n",
    "    .drop(columns=['FindPhraseStatus'])\n",
    "    .reset_index(drop=True)\n",
    ")\n",
    "\n",
    "# transform role data\n",
    "df_assigned_roles = (\n",
    "    df_assigned_roles\n",
    "    .assign(\n",
    "        job_title_raw=df_assigned_roles['FindPhrase'].str.lower().str.strip(),\n",
    "        job_title=df_assigned_roles['ReplacePhrase'].str.lower().str.strip()\n",
    "    )\n",
    "    [['job_title_raw', 'job_title']]\n",
    ")"
   ]
  },
  {
   "cell_type": "markdown",
   "id": "84d87ad4",
   "metadata": {},
   "source": [
    "Find out exact matches"
   ]
  },
  {
   "cell_type": "code",
   "execution_count": 3,
   "id": "fb7816c1",
   "metadata": {},
   "outputs": [
    {
     "name": "stdout",
     "output_type": "stream",
     "text": [
      "Total records: 108153\n",
      "Matched: 10087\n",
      "Unmatched: 98066\n"
     ]
    }
   ],
   "source": [
    "# first merge\n",
    "df_exact_matches = (\n",
    "    df_test_data\n",
    "    .merge(df_assigned_roles, how='outer', left_on='job_title_raw', right_on='job_title_raw', indicator=True)\n",
    ")\n",
    "\n",
    "# split data into matches and non-matches\n",
    "df_exact_non_matches = (\n",
    "    df_exact_matches\n",
    "    .query('_merge == \"left_only\"')\n",
    "    .drop(columns=['_merge', 'job_title'])\n",
    "    .reset_index(drop=True)\n",
    ")\n",
    "df_exact_matches = (\n",
    "    df_exact_matches\n",
    "    .query('_merge == \"both\"')\n",
    "    .drop(columns=['_merge'])\n",
    "    .reset_index(drop=True)    \n",
    ")\n",
    "\n",
    "# display stats\n",
    "print('Total records: {}'.format(df_test_data.shape[0]))\n",
    "print('Matched: {}'.format(df_exact_matches.shape[0]))\n",
    "print('Unmatched: {}'.format(df_exact_non_matches.shape[0]))"
   ]
  },
  {
   "cell_type": "markdown",
   "id": "e3ee4dfb",
   "metadata": {},
   "source": [
    "Define matching function"
   ]
  },
  {
   "cell_type": "code",
   "execution_count": 4,
   "id": "e9771f7d",
   "metadata": {},
   "outputs": [
    {
     "name": "stdout",
     "output_type": "stream",
     "text": [
      "INFO: Pandarallel will run on 4 workers.\n",
      "INFO: Pandarallel will use Memory file system to transfer data between the main process and workers.\n"
     ]
    },
    {
     "data": {
      "application/vnd.jupyter.widget-view+json": {
       "model_id": "0a88cb928e96402caefee10e9644a37b",
       "version_major": 2,
       "version_minor": 0
      },
      "text/plain": [
       "VBox(children=(HBox(children=(IntProgress(value=0, description='0.00%', max=24517), Label(value='0 / 24517')))…"
      ]
     },
     "metadata": {},
     "output_type": "display_data"
    },
    {
     "name": "stdout",
     "output_type": "stream",
     "text": [
      "Total records: 108153\n",
      "Exact matches: 10087\n",
      "Fuzzy matches: 75285\n",
      "CPU times: user 12.3 s, sys: 866 ms, total: 13.2 s\n",
      "Wall time: 17min 21s\n"
     ]
    }
   ],
   "source": [
    "%%time\n",
    "from rapidfuzz import process\n",
    "from pandarallel import pandarallel\n",
    "pandarallel.initialize(progress_bar=True, nb_workers=4)\n",
    "\n",
    "def match_job_titles(df, dictionary=None, score_cutoff=90):\n",
    "    # nothing to look up\n",
    "    if dictionary is None:\n",
    "        print('No dictionary set!')\n",
    "        return df\n",
    "    \n",
    "    # get roles to look up \n",
    "    _roles = dictionary['job_title_raw'].unique()\n",
    "\n",
    "    # matching function\n",
    "    _match_func = lambda x : process.extractOne(x, _roles)\n",
    "\n",
    "    # apply matching function\n",
    "    df = (\n",
    "        df\n",
    "        .assign(\n",
    "            _match=df['job_title_raw'].parallel_apply(_match_func)\n",
    "        )\n",
    "    )\n",
    "    # filter out bad quality matches\n",
    "    df = (\n",
    "        df\n",
    "        .assign(\n",
    "            job_title_matched=df['_match'].apply(lambda x : x[0]),            \n",
    "            _score=df['_match'].apply(lambda x : x[1]),\n",
    "        )\n",
    "        .query('_score >= @score_cutoff')\n",
    "        .drop(columns=['_match', '_score'])\n",
    "        .reset_index(drop=True)\n",
    "    )\n",
    "    return df\n",
    "\n",
    "# apply fuzzy matching and match back to the dictionary\n",
    "df_fuzzy_matches = (\n",
    "    df_exact_non_matches\n",
    "#     .head(10000) # testing purposes\n",
    "    .pipe(match_job_titles, df_assigned_roles)\n",
    "    [['job_title_matched', 'n']]\n",
    "    .merge(df_assigned_roles, how='left', left_on='job_title_matched', right_on='job_title_raw')\n",
    "    .drop(columns=['job_title_matched'])\n",
    "    [['job_title_raw', 'n', 'job_title']]    \n",
    ")\n",
    "\n",
    "# display stats\n",
    "print('Total records: {}'.format(df_test_data.shape[0]))\n",
    "print('Exact matches: {}'.format(df_exact_matches.shape[0]))\n",
    "print('Fuzzy matches: {}'.format(df_fuzzy_matches.shape[0]))"
   ]
  },
  {
   "cell_type": "markdown",
   "id": "f3edb893",
   "metadata": {},
   "source": [
    "Combine results"
   ]
  },
  {
   "cell_type": "code",
   "execution_count": 5,
   "id": "0bc04b63",
   "metadata": {},
   "outputs": [
    {
     "name": "stdout",
     "output_type": "stream",
     "text": [
      "Match ratio : 0.908\n",
      "Categories: 12,764 -> 5,505\n"
     ]
    },
    {
     "data": {
      "text/plain": [
       "job_title\n",
       "internship                  3006\n",
       "consul                      2904\n",
       "icer                        1752\n",
       "general manager             1131\n",
       "manager ct                  1131\n",
       "account manager             1048\n",
       "software engineer            984\n",
       "marketing manager            859\n",
       "chief technology officer     858\n",
       "sales manager                855\n",
       "dtype: int64"
      ]
     },
     "execution_count": 5,
     "metadata": {},
     "output_type": "execute_result"
    }
   ],
   "source": [
    "df_result = (\n",
    "    pd.concat([df_fuzzy_matches, df_exact_matches], ignore_index=True)\n",
    ")\n",
    "\n",
    "# display stats\n",
    "print('Match ratio : {:.3f}'.format(df_result['n'].sum() / df_test_data['n'].sum()))\n",
    "print('Categories: {:,} -> {:,}'.format(df_result['job_title_raw'].nunique(), df_result['job_title'].nunique()))\n",
    "\n",
    "# 10 most transformed job titles \n",
    "(\n",
    "    df_result\n",
    "    .groupby('job_title')\n",
    "    .size()\n",
    "    .sort_values(ascending=False)\n",
    "    .head(10)\n",
    ")"
   ]
  }
 ],
 "metadata": {
  "kernelspec": {
   "display_name": "Python 3 (ipykernel)",
   "language": "python",
   "name": "python3"
  },
  "language_info": {
   "codemirror_mode": {
    "name": "ipython",
    "version": 3
   },
   "file_extension": ".py",
   "mimetype": "text/x-python",
   "name": "python",
   "nbconvert_exporter": "python",
   "pygments_lexer": "ipython3",
   "version": "3.8.16"
  }
 },
 "nbformat": 4,
 "nbformat_minor": 5
}
